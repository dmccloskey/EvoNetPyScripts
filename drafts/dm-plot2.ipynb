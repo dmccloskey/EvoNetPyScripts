{
 "cells": [
  {
   "cell_type": "code",
   "execution_count": 234,
   "metadata": {},
   "outputs": [],
   "source": [
    "import pandas as pd\n",
    "import numpy as np\n",
    "import io\n",
    "import matplotlib as mpl\n",
    "import matplotlib.pyplot as plt\n",
    "import matplotlib.patches as pch\n",
    "from matplotlib.colors import ListedColormap\n",
    "from matplotlib.cm import ScalarMappable\n",
    "from matplotlib.lines import Line2D\n",
    "from itertools import cycle"
   ]
  },
  {
   "cell_type": "code",
   "execution_count": 235,
   "metadata": {},
   "outputs": [],
   "source": [
    "csv_str = \"\"\"\n",
    "Feature,Row Index 1,Row Index 2,Row Index 3,Row Index 4,Column Index 1,Sample 1,Sample 2,Sample 3,Sample 4\n",
    "Feature 1,A,B,B,D,1,10.2,14.4,12.4,10.4\n",
    "Feature 2,B,C,C,A,1,11.3,13.2,10.2,15.2\n",
    "Feature 3,A,A,A,C,1,10.2,12.1,10.1,14.4\n",
    "Feature 4,D,C,C,B,1,14.9,11.7,11.7,11.7\n",
    "Feature 5,E,C,C,B,1,14.9,10.7,10.7,10.7\n",
    "Feature 6,F,A,A,A,1,17.9,14.7,11.7,11.7\n",
    "\"\"\""
   ]
  },
  {
   "cell_type": "code",
   "execution_count": 236,
   "metadata": {},
   "outputs": [
    {
     "data": {
      "text/html": [
       "<div>\n",
       "<style scoped>\n",
       "    .dataframe tbody tr th:only-of-type {\n",
       "        vertical-align: middle;\n",
       "    }\n",
       "\n",
       "    .dataframe tbody tr th {\n",
       "        vertical-align: top;\n",
       "    }\n",
       "\n",
       "    .dataframe thead th {\n",
       "        text-align: right;\n",
       "    }\n",
       "</style>\n",
       "<table border=\"1\" class=\"dataframe\">\n",
       "  <thead>\n",
       "    <tr style=\"text-align: right;\">\n",
       "      <th></th>\n",
       "      <th>Feature</th>\n",
       "      <th>Row Index 1</th>\n",
       "      <th>Row Index 2</th>\n",
       "      <th>Row Index 3</th>\n",
       "      <th>Row Index 4</th>\n",
       "      <th>Column Index 1</th>\n",
       "      <th>Sample 1</th>\n",
       "      <th>Sample 2</th>\n",
       "      <th>Sample 3</th>\n",
       "      <th>Sample 4</th>\n",
       "    </tr>\n",
       "  </thead>\n",
       "  <tbody>\n",
       "    <tr>\n",
       "      <th>0</th>\n",
       "      <td>Feature 1</td>\n",
       "      <td>A</td>\n",
       "      <td>B</td>\n",
       "      <td>B</td>\n",
       "      <td>D</td>\n",
       "      <td>1</td>\n",
       "      <td>10.2</td>\n",
       "      <td>14.4</td>\n",
       "      <td>12.4</td>\n",
       "      <td>10.4</td>\n",
       "    </tr>\n",
       "    <tr>\n",
       "      <th>1</th>\n",
       "      <td>Feature 2</td>\n",
       "      <td>B</td>\n",
       "      <td>C</td>\n",
       "      <td>C</td>\n",
       "      <td>A</td>\n",
       "      <td>1</td>\n",
       "      <td>11.3</td>\n",
       "      <td>13.2</td>\n",
       "      <td>10.2</td>\n",
       "      <td>15.2</td>\n",
       "    </tr>\n",
       "    <tr>\n",
       "      <th>2</th>\n",
       "      <td>Feature 3</td>\n",
       "      <td>A</td>\n",
       "      <td>A</td>\n",
       "      <td>A</td>\n",
       "      <td>C</td>\n",
       "      <td>1</td>\n",
       "      <td>10.2</td>\n",
       "      <td>12.1</td>\n",
       "      <td>10.1</td>\n",
       "      <td>14.4</td>\n",
       "    </tr>\n",
       "    <tr>\n",
       "      <th>3</th>\n",
       "      <td>Feature 4</td>\n",
       "      <td>D</td>\n",
       "      <td>C</td>\n",
       "      <td>C</td>\n",
       "      <td>B</td>\n",
       "      <td>1</td>\n",
       "      <td>14.9</td>\n",
       "      <td>11.7</td>\n",
       "      <td>11.7</td>\n",
       "      <td>11.7</td>\n",
       "    </tr>\n",
       "    <tr>\n",
       "      <th>4</th>\n",
       "      <td>Feature 5</td>\n",
       "      <td>E</td>\n",
       "      <td>C</td>\n",
       "      <td>C</td>\n",
       "      <td>B</td>\n",
       "      <td>1</td>\n",
       "      <td>14.9</td>\n",
       "      <td>10.7</td>\n",
       "      <td>10.7</td>\n",
       "      <td>10.7</td>\n",
       "    </tr>\n",
       "    <tr>\n",
       "      <th>5</th>\n",
       "      <td>Feature 6</td>\n",
       "      <td>F</td>\n",
       "      <td>A</td>\n",
       "      <td>A</td>\n",
       "      <td>A</td>\n",
       "      <td>1</td>\n",
       "      <td>17.9</td>\n",
       "      <td>14.7</td>\n",
       "      <td>11.7</td>\n",
       "      <td>11.7</td>\n",
       "    </tr>\n",
       "  </tbody>\n",
       "</table>\n",
       "</div>"
      ],
      "text/plain": [
       "     Feature Row Index 1 Row Index 2 Row Index 3 Row Index 4  Column Index 1  \\\n",
       "0  Feature 1           A           B           B           D               1   \n",
       "1  Feature 2           B           C           C           A               1   \n",
       "2  Feature 3           A           A           A           C               1   \n",
       "3  Feature 4           D           C           C           B               1   \n",
       "4  Feature 5           E           C           C           B               1   \n",
       "5  Feature 6           F           A           A           A               1   \n",
       "\n",
       "   Sample 1  Sample 2  Sample 3  Sample 4  \n",
       "0      10.2      14.4      12.4      10.4  \n",
       "1      11.3      13.2      10.2      15.2  \n",
       "2      10.2      12.1      10.1      14.4  \n",
       "3      14.9      11.7      11.7      11.7  \n",
       "4      14.9      10.7      10.7      10.7  \n",
       "5      17.9      14.7      11.7      11.7  "
      ]
     },
     "execution_count": 236,
     "metadata": {},
     "output_type": "execute_result"
    }
   ],
   "source": [
    "# df = pd.read_csv(path / 'example.csv')\n",
    "df = pd.read_csv(io.StringIO(csv_str))\n",
    "df"
   ]
  },
  {
   "cell_type": "code",
   "execution_count": 237,
   "metadata": {},
   "outputs": [],
   "source": [
    "def multi_index_heatmap(df, feature_column_name, row_index_columns, sample_columns, \n",
    "    feature_names_width=1.2, scale=1.0, unit=1., space=0.02, legend_offset=0.5, \n",
    "    heatmap_cell_width=1.5, heatmap_padding=0.1, colorbar_width=0.5, colorbar_padding=0.):\n",
    "    # Extract labels:\n",
    "    row_labels = {index_name: np.sort(df[index_name].unique()) for index_name in row_index_columns}\n",
    "    # column_labels = {index_name: np.sort(df[index_name].unique()) for index_name in column_index_columns}\n",
    "    # Specify GridSpec:\n",
    "    widths = np.array(\n",
    "        [unit*feature_names_width] + [unit] * len(row_labels) + \n",
    "        [unit*heatmap_padding] + \n",
    "        [unit*heatmap_cell_width] * len(sample_columns) + \n",
    "        [unit*colorbar_width])\n",
    "    heights = np.array([unit] * (len(df) + 1) + [legend_offset*unit])\n",
    "    gs_kw = dict(width_ratios=widths, height_ratios=heights)\n",
    "    fig, axs = plt.subplots(\n",
    "        ncols=len(widths), nrows=len(heights), subplot_kw=dict(frameon=False),\n",
    "        constrained_layout=False, gridspec_kw=gs_kw, \n",
    "        figsize=(scale * widths.sum(), scale * heights.sum()))\n",
    "    # Create a column for colorbar:\n",
    "    gs = axs[1, -1].get_gridspec()\n",
    "    for ax in axs[1:-1, -1]:\n",
    "        ax.remove()\n",
    "    axbig = fig.add_subplot(gs[1:-1, -1])\n",
    "    # Find maximum value for samples\n",
    "    np_sample = df[sample_columns].to_numpy()\n",
    "    min_s, max_s = np_sample.min(), np_sample.max()\n",
    "    # Define color mappings:\n",
    "    ## Categorical:\n",
    "    from matplotlib.cm import get_cmap\n",
    "    cmaps = cycle(['Blues', 'Oranges', 'Greens', 'Reds', 'Purples', ])\n",
    "    def map_disc_(items, cmap_name):\n",
    "        cmap_ = get_cmap(cmap_name)\n",
    "        inter_ = 0.3\n",
    "        slope_ = (1. - inter_) / len(items)\n",
    "        return {value: cmap_(inter_ + items.tolist().index(value) * slope_) for value in items}\n",
    "    row_colors = {label: map_disc_(items, cmap_name) \\\n",
    "        for (label, items), cmap_name in zip(row_labels.items(), cmaps)}\n",
    "    # column_colors = {label: map_disc_(items, cmap_name) \\\n",
    "        # for (label, items), cmap_name in zip(column_labels.items(), cmaps)}\n",
    "    ## Continuous:\n",
    "    def lin_cmap_(inter, value, min_value, max_value):\n",
    "        return inter + (value - min_value) * ((1. - inter) / np.abs(max_value - min_value))\n",
    "    newgreys_ = lambda x: get_cmap('Greys')(lin_cmap_(0.2, x, min_s, max_s))\n",
    "    newgreys = ListedColormap(newgreys_(np.linspace(min_s, max_s, 256)))\n",
    "    # Apply settings for axes:\n",
    "    for r, row in enumerate(axs):\n",
    "        for c, ax in enumerate(row):\n",
    "            ax.set(xticks=[], yticks=[])\n",
    "            for _, spine in ax.spines.items():\n",
    "                spine.set_visible(False)\n",
    "            if r == len(axs) - 1:\n",
    "                ax.patch.set_alpha(0.)\n",
    "                continue\n",
    "            if r >= 1 and c == 0:\n",
    "                ax.text(0, 0.5, df[feature_column_name][r - 1], \n",
    "                    verticalalignment='center')\n",
    "            if r == 0 and c > len(row_labels) + 1 and c < (len(row_labels) + 1 + len(sample_columns) + 1):\n",
    "                ax.text(0.5, 0.5, sample_columns[c - len(row_labels) - 2], \n",
    "                    verticalalignment='center', horizontalalignment='center')\n",
    "            if r >= 1 and c >= 1 and c < len(row_labels) + 1:\n",
    "                var_name = list(row_labels.keys())[c - 1]\n",
    "                var_value = df[var_name][r - 1]\n",
    "                ax.add_patch(pch.Rectangle((0., 0.), 1., 1., \n",
    "                    facecolor=row_colors[var_name][var_value], edgecolor='none', label=var_value))\n",
    "            elif r >= 1 and c >= 1 and c > len(row_labels) + 1 and c < (len(row_labels) + 1 + len(sample_columns) + 1):\n",
    "                cmap = get_cmap('Greys')\n",
    "                ax.patch.set_alpha(0.)\n",
    "                var_name = sample_columns[c - len(row_labels) - 2]\n",
    "                var_value = df[var_name][r - 1]\n",
    "                ax.add_patch(pch.Rectangle((0., 0.), 1., 1., \n",
    "                    facecolor=newgreys_(var_value), edgecolor='none'))\n",
    "    # Build the legend:\n",
    "    sizes = [ll.shape[0] for ln, ll in row_labels.items()]\n",
    "    largest_label_inx = np.argmax(sizes)\n",
    "    ## Categorical variables:\n",
    "    hndl = []\n",
    "    for i, (lbl, colors_) in enumerate(row_colors.items()):\n",
    "        size, empty = len(colors_), []\n",
    "        if i >= 1:\n",
    "            m = sizes[largest_label_inx] - sizes[i - 1]\n",
    "            if m > 0:\n",
    "                empty = [Line2D([], [], label='', alpha=0.)] * m\n",
    "        hndl += empty + [Line2D([], [], label=lbl, alpha=0.)] + [\n",
    "            pch.Patch(facecolor=color, edgecolor=\"k\", label=label, alpha=0.7) \n",
    "            for label, color in colors_.items()\n",
    "        ]\n",
    "    hndl += [Line2D([], [], label='', alpha=0.)] * (sizes[largest_label_inx] - sizes[i])\n",
    "    ## Continuous variables:\n",
    "    fig.colorbar(ScalarMappable(\n",
    "        norm=mpl.colors.Normalize(vmin=min_s, vmax=max_s), \n",
    "        cmap=newgreys), cax=axbig)\n",
    "    legend = fig.legend(handles=hndl, loc='lower center', \n",
    "        handlelength=scale*1.4, handleheight=scale*1.6, \n",
    "        ncol=len(row_index_columns), labelspacing=.0)\n",
    "    legend.get_frame().set_alpha(0.)\n",
    "    plt.subplots_adjust(hspace=space, wspace=space)\n",
    "    return fig"
   ]
  },
  {
   "cell_type": "markdown",
   "metadata": {},
   "source": [
    "# Demo"
   ]
  },
  {
   "cell_type": "code",
   "execution_count": 238,
   "metadata": {},
   "outputs": [
    {
     "data": {
      "image/png": "[encoded data removed]",
      "text/plain": [
       "<Figure size 849.6x540 with 83 Axes>"
      ]
     },
     "metadata": {
      "needs_background": "light"
     },
     "output_type": "display_data"
    }
   ],
   "source": [
    "fig = multi_index_heatmap(df,\n",
    "    feature_column_name='Feature', \n",
    "    row_index_columns=['Row Index 1', 'Row Index 2', 'Row Index 3', 'Row Index 4'], \n",
    "    sample_columns=['Sample 1', 'Sample 2', 'Sample 3', 'Sample 4'])"
   ]
  },
  {
   "cell_type": "code",
   "execution_count": 239,
   "metadata": {},
   "outputs": [
    {
     "data": {
      "image/png": "[encoded data removed]",
      "text/plain": [
       "<Figure size 1029.6x540 with 59 Axes>"
      ]
     },
     "metadata": {
      "needs_background": "light"
     },
     "output_type": "display_data"
    }
   ],
   "source": [
    "fig = multi_index_heatmap(df,\n",
    "    feature_column_name='Feature', \n",
    "    row_index_columns=['Row Index 1', 'Row Index 3'], \n",
    "    sample_columns=['Sample 3', 'Sample 2', 'Sample 4'],\n",
    "    heatmap_cell_width=3.5)"
   ]
  },
  {
   "cell_type": "code",
   "execution_count": 240,
   "metadata": {},
   "outputs": [
    {
     "data": {
      "image/png": "[encoded data removed]",
      "text/plain": [
       "<Figure size 554.4x540 with 67 Axes>"
      ]
     },
     "metadata": {
      "needs_background": "light"
     },
     "output_type": "display_data"
    }
   ],
   "source": [
    "fig = multi_index_heatmap(df,\n",
    "    feature_column_name='Feature', \n",
    "    row_index_columns=['Row Index 3', 'Row Index 1', 'Row Index 4'], \n",
    "    sample_columns=['Sample 3', 'Sample 2', 'Sample 1'],\n",
    "    heatmap_cell_width=1.0, space=0., heatmap_padding=0.)"
   ]
  }
 ],
 "metadata": {
  "interpreter": {
   "hash": "12fad036f12904aeaa28cdcdcde7f08fe9827bf1370c00d971a641f25b8f063a"
  },
  "kernelspec": {
   "display_name": "Python 3.7.11 64-bit ('specvae': conda)",
   "language": "python",
   "name": "python3"
  },
  "language_info": {
   "codemirror_mode": {
    "name": "ipython",
    "version": 3
   },
   "file_extension": ".py",
   "mimetype": "text/x-python",
   "name": "python",
   "nbconvert_exporter": "python",
   "pygments_lexer": "ipython3",
   "version": "3.7.11"
  },
  "orig_nbformat": 4
 },
 "nbformat": 4,
 "nbformat_minor": 2
}
